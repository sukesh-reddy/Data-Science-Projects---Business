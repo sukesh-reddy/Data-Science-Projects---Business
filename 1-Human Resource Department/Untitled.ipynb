{
 "cells": [
  {
   "cell_type": "markdown",
   "metadata": {},
   "source": [
    "# Problem Statement / Business Case"
   ]
  },
  {
   "cell_type": "markdown",
   "metadata": {},
   "source": [
    "Hiring and retaining employees are extremely complex tasks that require capital ,time and skills. Here, I will be developing a model for HR department that could predict which employees are more likely to quit."
   ]
  },
  {
   "cell_type": "markdown",
   "metadata": {},
   "source": [
    "## Facts regarding the problem statement"
   ]
  },
  {
   "cell_type": "markdown",
   "metadata": {},
   "source": [
    "- One of the major task for HR depratment is retain the top talent.\n",
    "- Small business owners spen 40% of their working time on tasks that do not generate any income such as hiring.\n",
    "- Companies spend 15%-20% of the employee's salary to recruit a new candidate.\n",
    "- It takes 52 days on average to fill a position\n",
    "- An average company loses anywhere between 1% and 2.5% of their total revenue on the time it takes to bring  new hire up to speed."
   ]
  },
  {
   "cell_type": "markdown",
   "metadata": {},
   "source": [
    "## Workflow"
   ]
  },
  {
   "cell_type": "markdown",
   "metadata": {},
   "source": [
    "- Data Sourcing\n",
    "    - Import libraries and Datasets\n",
    "- EDA\n",
    "    - Visualize Dataset\n",
    "- Data Preparation\n",
    "    - Data Cleaning\n",
    "    - Splitting into train and test\n",
    "- Modelling\n",
    "    - Training and Evaluate Logistic classifier\n",
    "    - Training and Evaluate Random Forest classifie\n",
    "    - Training and Evaluate Deep Learning Model"
   ]
  },
  {
   "cell_type": "code",
   "execution_count": null,
   "metadata": {},
   "outputs": [],
   "source": []
  }
 ],
 "metadata": {
  "kernelspec": {
   "display_name": "Python 3",
   "language": "python",
   "name": "python3"
  },
  "language_info": {
   "codemirror_mode": {
    "name": "ipython",
    "version": 3
   },
   "file_extension": ".py",
   "mimetype": "text/x-python",
   "name": "python",
   "nbconvert_exporter": "python",
   "pygments_lexer": "ipython3",
   "version": "3.7.6"
  }
 },
 "nbformat": 4,
 "nbformat_minor": 4
}
